{
  "nbformat": 4,
  "nbformat_minor": 0,
  "metadata": {
    "colab": {
      "name": "ImageClothingClassifier.ipynb",
      "provenance": []
    },
    "kernelspec": {
      "name": "python3",
      "display_name": "Python 3"
    }
  },
  "cells": [
    {
      "cell_type": "markdown",
      "metadata": {
        "id": "urVgLhMSbpv_"
      },
      "source": [
        "# Image Clothing Classifier\n",
        "\n",
        "We will train a neural network model to classify images of clothing such as sneakers and shorts. We will use keras a python deep learning API to build and train models in TensorFlow."
      ]
    },
    {
      "cell_type": "code",
      "metadata": {
        "id": "aVIyZz0mblp0"
      },
      "source": [
        "#import tensorflow and tf.keras\n",
        "import tensorflow as tf\n",
        "\n",
        "import numpy as np\n",
        "import matplotlib.pyplot as plt\n"
      ],
      "execution_count": 2,
      "outputs": []
    },
    {
      "cell_type": "markdown",
      "metadata": {
        "id": "c1Dce3ypcJbH"
      },
      "source": [
        "# Import the Fashion MNIST dataset\n",
        "\n",
        "We will be using the fashion MNIST dataset which contains 70 000 images in 10 categories. The images show individual articles of clothing in 28 by 28 pixels.\n",
        "\n",
        "We will use 60 000 images to train network and 10 000 images to evaluate how accurate the network is in classifying images."
      ]
    },
    {
      "cell_type": "code",
      "metadata": {
        "id": "7gQtCzqIcaHm"
      },
      "source": [
        "fashion_mnist = tf.keras.datasets.fashion_mnist"
      ],
      "execution_count": 3,
      "outputs": []
    },
    {
      "cell_type": "code",
      "metadata": {
        "id": "xLDQZnixcsKE",
        "outputId": "891457d8-2bfb-48e5-91be-2f8a03b88ea6",
        "colab": {
          "base_uri": "https://localhost:8080/",
          "height": 153
        }
      },
      "source": [
        "(train_images, train_labels), (test_images, test_labels) = fashion_mnist.load_data()"
      ],
      "execution_count": 4,
      "outputs": [
        {
          "output_type": "stream",
          "text": [
            "Downloading data from https://storage.googleapis.com/tensorflow/tf-keras-datasets/train-labels-idx1-ubyte.gz\n",
            "32768/29515 [=================================] - 0s 0us/step\n",
            "Downloading data from https://storage.googleapis.com/tensorflow/tf-keras-datasets/train-images-idx3-ubyte.gz\n",
            "26427392/26421880 [==============================] - 0s 0us/step\n",
            "Downloading data from https://storage.googleapis.com/tensorflow/tf-keras-datasets/t10k-labels-idx1-ubyte.gz\n",
            "8192/5148 [===============================================] - 0s 0us/step\n",
            "Downloading data from https://storage.googleapis.com/tensorflow/tf-keras-datasets/t10k-images-idx3-ubyte.gz\n",
            "4423680/4422102 [==============================] - 0s 0us/step\n"
          ],
          "name": "stdout"
        }
      ]
    },
    {
      "cell_type": "markdown",
      "metadata": {
        "id": "P1gTgqKKc2V4"
      },
      "source": [
        "Loading the dataset gives four NumPy arrays. \n",
        "\n",
        "*   train_images and train_labels are the training set which is the data the model uses to learn.\n",
        "*   test_images and test_labels will be the test set.\n",
        "\n",
        "The images are 28x28 NumPy arrays with pixel values ranging from 0 to 255. The labels are array of integers ranging from 0 to 9, corresponding to the class of clothing the image represents:\n",
        "\n",
        "<table>\n",
        "  <tr>\n",
        "    <th>Label</th>\n",
        "    <th>Class</th>\n",
        "  </tr>\n",
        "  <tr>\n",
        "    <td>0</td>\n",
        "    <td>T-shirt/top</td>\n",
        "  </tr>\n",
        "  <tr>\n",
        "    <td>1</td>\n",
        "    <td>Trouser</td>\n",
        "  </tr>\n",
        "    <tr>\n",
        "    <td>2</td>\n",
        "    <td>Pullover</td>\n",
        "  </tr>\n",
        "    <tr>\n",
        "    <td>3</td>\n",
        "    <td>Dress</td>\n",
        "  </tr>\n",
        "    <tr>\n",
        "    <td>4</td>\n",
        "    <td>Coat</td>\n",
        "  </tr>\n",
        "    <tr>\n",
        "    <td>5</td>\n",
        "    <td>Sandal</td>\n",
        "  </tr>\n",
        "    <tr>\n",
        "    <td>6</td>\n",
        "    <td>Shirt</td>\n",
        "  </tr>\n",
        "    <tr>\n",
        "    <td>7</td>\n",
        "    <td>Sneaker</td>\n",
        "  </tr>\n",
        "    <tr>\n",
        "    <td>8</td>\n",
        "    <td>Bag</td>\n",
        "  </tr>\n",
        "    <tr>\n",
        "    <td>9</td>\n",
        "    <td>Ankle boot</td>\n",
        "  </tr>\n",
        "</table>\n",
        "\n",
        "Let's store the class names so we can use them later when plotting the images."
      ]
    },
    {
      "cell_type": "code",
      "metadata": {
        "id": "A5yPYZMmdn-U"
      },
      "source": [
        "class_names = ['T-shirt/top', 'Trouser', 'Pullover', 'Dress', 'Coat',\n",
        "               'Sandal', 'Shirt', 'Sneaker', 'Bag', 'Ankle boot']"
      ],
      "execution_count": 5,
      "outputs": []
    },
    {
      "cell_type": "markdown",
      "metadata": {
        "id": "l5KcUXKmd9mB"
      },
      "source": [
        "# Exploring the Data\n",
        "\n",
        "Let's explore the format of the dataset before training the model."
      ]
    },
    {
      "cell_type": "code",
      "metadata": {
        "id": "LPFG-IK7eFK4",
        "outputId": "5b68559c-7926-4971-b81c-9c8a60abb6c6",
        "colab": {
          "base_uri": "https://localhost:8080/",
          "height": 34
        }
      },
      "source": [
        "train_images.shape"
      ],
      "execution_count": 6,
      "outputs": [
        {
          "output_type": "execute_result",
          "data": {
            "text/plain": [
              "(60000, 28, 28)"
            ]
          },
          "metadata": {
            "tags": []
          },
          "execution_count": 6
        }
      ]
    },
    {
      "cell_type": "code",
      "metadata": {
        "id": "AN7Mglg6eGlJ",
        "outputId": "ee8f06ce-c759-4c46-cd5e-d198300fb9d9",
        "colab": {
          "base_uri": "https://localhost:8080/",
          "height": 34
        }
      },
      "source": [
        "len(train_labels)"
      ],
      "execution_count": 7,
      "outputs": [
        {
          "output_type": "execute_result",
          "data": {
            "text/plain": [
              "60000"
            ]
          },
          "metadata": {
            "tags": []
          },
          "execution_count": 7
        }
      ]
    },
    {
      "cell_type": "code",
      "metadata": {
        "id": "mwE1aKCEeJKX",
        "outputId": "bb83e11b-aebd-4ae4-c4ed-682f3fa8cd48",
        "colab": {
          "base_uri": "https://localhost:8080/",
          "height": 34
        }
      },
      "source": [
        "train_labels"
      ],
      "execution_count": 8,
      "outputs": [
        {
          "output_type": "execute_result",
          "data": {
            "text/plain": [
              "array([9, 0, 0, ..., 3, 0, 5], dtype=uint8)"
            ]
          },
          "metadata": {
            "tags": []
          },
          "execution_count": 8
        }
      ]
    },
    {
      "cell_type": "code",
      "metadata": {
        "id": "K8ZFB2MIeLwp",
        "outputId": "b820c50b-2feb-4f8a-ba68-3df947ad78aa",
        "colab": {
          "base_uri": "https://localhost:8080/",
          "height": 34
        }
      },
      "source": [
        "test_images.shape"
      ],
      "execution_count": 9,
      "outputs": [
        {
          "output_type": "execute_result",
          "data": {
            "text/plain": [
              "(10000, 28, 28)"
            ]
          },
          "metadata": {
            "tags": []
          },
          "execution_count": 9
        }
      ]
    },
    {
      "cell_type": "code",
      "metadata": {
        "id": "7pT9TPCSja7T",
        "outputId": "6fcde9f4-acaf-4e5c-e6a5-68e39c0c65b2",
        "colab": {
          "base_uri": "https://localhost:8080/",
          "height": 34
        }
      },
      "source": [
        "len(test_labels)"
      ],
      "execution_count": 10,
      "outputs": [
        {
          "output_type": "execute_result",
          "data": {
            "text/plain": [
              "10000"
            ]
          },
          "metadata": {
            "tags": []
          },
          "execution_count": 10
        }
      ]
    },
    {
      "cell_type": "markdown",
      "metadata": {
        "id": "FZrJxk2ijfee"
      },
      "source": [
        "# Preprocess the data\n",
        "\n",
        "The data should be preprocessed before training the network. You'll see that the pixel values fall in the range of 0 to 255:"
      ]
    },
    {
      "cell_type": "code",
      "metadata": {
        "id": "1lZcP0aYjqzs",
        "outputId": "688ae7a2-0d67-4c6a-e218-4bfae38e1e22",
        "colab": {
          "base_uri": "https://localhost:8080/",
          "height": 265
        }
      },
      "source": [
        "plt.figure()\n",
        "plt.imshow(train_images[100])\n",
        "plt.colorbar()\n",
        "plt.grid(False)\n",
        "plt.show()"
      ],
      "execution_count": 13,
      "outputs": [
        {
          "output_type": "display_data",
          "data": {
            "image/png": "[encoded data removed]",
            "text/plain": [
              "<Figure size 432x288 with 2 Axes>"
            ]
          },
          "metadata": {
            "tags": [],
            "needs_background": "light"
          }
        }
      ]
    },
    {
      "cell_type": "markdown",
      "metadata": {
        "id": "1s4ASq0Qj7m3"
      },
      "source": [
        "We should scale these pixel values to a range of 0 to 1 before feeding them to the neural network."
      ]
    },
    {
      "cell_type": "code",
      "metadata": {
        "id": "HPnM3_ZakCva"
      },
      "source": [
        "train_images = train_images / 255.0\n",
        "test_images = test_images / 255.0"
      ],
      "execution_count": 15,
      "outputs": []
    },
    {
      "cell_type": "code",
      "metadata": {
        "id": "H-cnShpXkgU0",
        "outputId": "b811df69-623b-41b9-c5ad-5e132eb5b3d5",
        "colab": {
          "base_uri": "https://localhost:8080/",
          "height": 589
        }
      },
      "source": [
        "plt.figure(figsize=(10,10))\n",
        "for i in range(25):\n",
        "  plt.subplot(5,5,i+1)\n",
        "  plt.xticks([])\n",
        "  plt.yticks([])\n",
        "  plt.grid(False)\n",
        "  plt.imshow(train_images[i], cmap=plt.cm.binary)\n",
        "  plt.xlabel(class_names[train_labels[i]])\n",
        "plt.show()"
      ],
      "execution_count": 18,
      "outputs": [
        {
          "output_type": "display_data",
          "data": {
            "image/png": "[encoded data removed]",
            "text/plain": [
              "<Figure size 720x720 with 25 Axes>"
            ]
          },
          "metadata": {
            "tags": []
          }
        }
      ]
    },
    {
      "cell_type": "markdown",
      "metadata": {
        "id": "NkXAMiXplCho"
      },
      "source": [
        "# Build the model\n",
        "\n",
        "Build the neural network by configuring the layers of the model, then compiling the model.\n",
        "\n",
        "# Set up the layers\n",
        "\n",
        "The basic building block of a neural network is the layer. Layers extract representations from data fed into them. These representations could be more meaningful for the problem at hand.\n",
        "\n",
        "A lot of deeplearning consists of chaining together simple layers. Layers such as, tf.keras.layers.Dense, have parameters which are learned during training"
      ]
    },
    {
      "cell_type": "code",
      "metadata": {
        "id": "EwhW8sCsk6Ra"
      },
      "source": [
        "model = tf.keras.Sequential([\n",
        "      tf.keras.layers.Flatten(input_shape=(28,28)),\n",
        "      tf.keras.layers.Dense(128, activation='relu'),\n",
        "      tf.keras.layers.Dense(10)\n",
        "])"
      ],
      "execution_count": 21,
      "outputs": []
    },
    {
      "cell_type": "markdown",
      "metadata": {
        "id": "6cLz2Yb2l9mE"
      },
      "source": [
        "The first layer in the network, tf.keras.layers.Flatten, transforms the images from a 2-D array (28x28 pixels) to 1-D array of (28*28 = 784 pixels). This layer unstack rows of pixels and lines them up. It has no parameters to learn; only reformats the data.\n",
        "\n",
        "Once pixels are flattened, the network has two tf.keras.layers.Dense layers. These are densely connect, or fully connected, neural layers. The first Dense layer has 128 nodes (or neurons). The second dense layer returns a logotis array with length of 10. Each node contains a score that indicates the current image belongs to one of the 10 classes.\n",
        "\n",
        "# Compile the model\n",
        "\n",
        "Before the model is ready for training it needs some more settings. These are added during the model's compile step:\n",
        "\n",
        "* Loss function - measures how accurate the model is during training. Minimize this function to 'steer' the model in the right direction\n",
        "* Optimizer - how the model is updated based on the data it sees and its loss function\n",
        "* Metrics - used to monitor the training and testing steps, the following example uses accuracy, the images that are correctly classified"
      ]
    },
    {
      "cell_type": "code",
      "metadata": {
        "id": "e5XU0YtJl4gC"
      },
      "source": [
        "model.compile(optimizer='adam',\n",
        "              loss=tf.keras.losses.SparseCategoricalCrossentropy(from_logits=True),\n",
        "              metrics=['accuracy'])"
      ],
      "execution_count": 23,
      "outputs": []
    },
    {
      "cell_type": "markdown",
      "metadata": {
        "id": "4hdX4pHHq50k"
      },
      "source": [
        "# Train the model\n",
        "\n",
        "Training the neural network model requires:\n",
        "\n",
        "1. Feed the training data into the model. In this example, the training data is in the train_images and train_labels arrays.\n",
        "2. The model learns to associate images and labels.\n",
        "3. You ask the model to make predictions about a test set (test_images array)\n",
        "4. Verify that predictions match labels from test_labels array\n",
        "\n",
        "# Feed the model\n",
        "To start training, call model.fit so it 'fits' the data."
      ]
    },
    {
      "cell_type": "code",
      "metadata": {
        "id": "AfL11gMxruTI",
        "outputId": "b6dd145d-cc9c-4bfe-932a-e2138adf45d8",
        "colab": {
          "base_uri": "https://localhost:8080/",
          "height": 884
        }
      },
      "source": [
        "model.fit(train_images, train_labels, epochs=25)\n"
      ],
      "execution_count": 26,
      "outputs": [
        {
          "output_type": "stream",
          "text": [
            "Epoch 1/25\n",
            "1875/1875 [==============================] - 4s 2ms/step - loss: 0.3954 - accuracy: 0.8598\n",
            "Epoch 2/25\n",
            "1875/1875 [==============================] - 4s 2ms/step - loss: 0.3920 - accuracy: 0.8622\n",
            "Epoch 3/25\n",
            "1875/1875 [==============================] - 4s 2ms/step - loss: 0.3882 - accuracy: 0.8626\n",
            "Epoch 4/25\n",
            "1875/1875 [==============================] - 4s 2ms/step - loss: 0.3849 - accuracy: 0.8637\n",
            "Epoch 5/25\n",
            "1875/1875 [==============================] - 4s 2ms/step - loss: 0.3815 - accuracy: 0.8651\n",
            "Epoch 6/25\n",
            "1875/1875 [==============================] - 4s 2ms/step - loss: 0.3781 - accuracy: 0.8663\n",
            "Epoch 7/25\n",
            "1875/1875 [==============================] - 5s 3ms/step - loss: 0.3749 - accuracy: 0.8673\n",
            "Epoch 8/25\n",
            "1875/1875 [==============================] - 4s 2ms/step - loss: 0.3717 - accuracy: 0.8683\n",
            "Epoch 9/25\n",
            "1875/1875 [==============================] - 4s 2ms/step - loss: 0.3695 - accuracy: 0.8689\n",
            "Epoch 10/25\n",
            "1875/1875 [==============================] - 4s 2ms/step - loss: 0.3667 - accuracy: 0.8697\n",
            "Epoch 11/25\n",
            "1875/1875 [==============================] - 4s 2ms/step - loss: 0.3640 - accuracy: 0.8712\n",
            "Epoch 12/25\n",
            "1875/1875 [==============================] - 4s 2ms/step - loss: 0.3612 - accuracy: 0.8712\n",
            "Epoch 13/25\n",
            "1875/1875 [==============================] - 4s 2ms/step - loss: 0.3585 - accuracy: 0.8721\n",
            "Epoch 14/25\n",
            "1875/1875 [==============================] - 4s 2ms/step - loss: 0.3568 - accuracy: 0.8729\n",
            "Epoch 15/25\n",
            "1875/1875 [==============================] - 4s 2ms/step - loss: 0.3541 - accuracy: 0.8744\n",
            "Epoch 16/25\n",
            "1875/1875 [==============================] - 4s 2ms/step - loss: 0.3516 - accuracy: 0.8752\n",
            "Epoch 17/25\n",
            "1875/1875 [==============================] - 4s 2ms/step - loss: 0.3493 - accuracy: 0.8753\n",
            "Epoch 18/25\n",
            "1875/1875 [==============================] - 4s 2ms/step - loss: 0.3475 - accuracy: 0.8767\n",
            "Epoch 19/25\n",
            "1875/1875 [==============================] - 4s 2ms/step - loss: 0.3451 - accuracy: 0.8779\n",
            "Epoch 20/25\n",
            "1875/1875 [==============================] - 4s 2ms/step - loss: 0.3431 - accuracy: 0.8782\n",
            "Epoch 21/25\n",
            "1875/1875 [==============================] - 4s 2ms/step - loss: 0.3412 - accuracy: 0.8786\n",
            "Epoch 22/25\n",
            "1875/1875 [==============================] - 4s 2ms/step - loss: 0.3396 - accuracy: 0.8792\n",
            "Epoch 23/25\n",
            "1875/1875 [==============================] - 4s 2ms/step - loss: 0.3372 - accuracy: 0.8798\n",
            "Epoch 24/25\n",
            "1875/1875 [==============================] - 4s 2ms/step - loss: 0.3355 - accuracy: 0.8805\n",
            "Epoch 25/25\n",
            "1875/1875 [==============================] - 4s 2ms/step - loss: 0.3340 - accuracy: 0.8806\n"
          ],
          "name": "stdout"
        },
        {
          "output_type": "execute_result",
          "data": {
            "text/plain": [
              "<tensorflow.python.keras.callbacks.History at 0x7fdd39e5cf98>"
            ]
          },
          "metadata": {
            "tags": []
          },
          "execution_count": 26
        }
      ]
    },
    {
      "cell_type": "markdown",
      "metadata": {
        "id": "i2FpY2owtCAN"
      },
      "source": [
        "As the model trains, the loss and accuracy metrics are displayed. This model reaches an accuract of 88% on the training data.\n",
        "\n",
        "# Evaluate accuracy \n",
        "\n",
        "Now compare how the model performs on the test dataset"
      ]
    },
    {
      "cell_type": "code",
      "metadata": {
        "id": "O5q53-TmsFFv",
        "outputId": "bcd19cee-9087-494b-d731-ec033f1d6997",
        "colab": {
          "base_uri": "https://localhost:8080/",
          "height": 68
        }
      },
      "source": [
        "test_loss, test_acc = model.evaluate(test_images, test_labels, verbose=2)\n",
        "print('\\nTest accuracy: ', test_acc)"
      ],
      "execution_count": 27,
      "outputs": [
        {
          "output_type": "stream",
          "text": [
            "313/313 - 0s - loss: 0.3849 - accuracy: 0.8620\n",
            "\n",
            "Test accuracy:  0.8619999885559082\n"
          ],
          "name": "stdout"
        }
      ]
    },
    {
      "cell_type": "markdown",
      "metadata": {
        "id": "9mKgY54tt1Ip"
      },
      "source": [
        "So the accuracy on the test dataset is less accurate than the accuracy on the training dataset. This represents overfitting, which happens when a machine learning model performs worse on new, unseeen inputs than it does on training data. An overfitted model 'memorizes' the noise and details in the training datast to a point that it negatively impacts the performance of the model on the new data.\n",
        "\n",
        "# Make Predictions\n",
        "\n",
        "With the model now trained, we can make predictions about the images. The model's linear outputs, logits. Attach a softmax layer to convert the logits to probabilities, which are easier to interpret."
      ]
    },
    {
      "cell_type": "code",
      "metadata": {
        "id": "ZQxL02iBtfLF"
      },
      "source": [
        "probability_model = tf.keras.Sequential([model, tf.keras.layers.Softmax()])"
      ],
      "execution_count": 28,
      "outputs": []
    },
    {
      "cell_type": "code",
      "metadata": {
        "id": "U3JkZiG0vAFO"
      },
      "source": [
        "predictions = probability_model.predict(test_images)"
      ],
      "execution_count": 29,
      "outputs": []
    },
    {
      "cell_type": "code",
      "metadata": {
        "id": "48QW27WtvFNJ",
        "outputId": "1346ee09-ef6a-440f-ee6c-9031a0263543",
        "colab": {
          "base_uri": "https://localhost:8080/",
          "height": 68
        }
      },
      "source": [
        "predictions[0]"
      ],
      "execution_count": 30,
      "outputs": [
        {
          "output_type": "execute_result",
          "data": {
            "text/plain": [
              "array([2.1821409e-08, 4.6590110e-09, 1.9146062e-06, 5.0257540e-07,\n",
              "       2.9060036e-06, 1.2658687e-01, 9.8694827e-06, 3.5563260e-02,\n",
              "       2.6086750e-03, 8.3522600e-01], dtype=float32)"
            ]
          },
          "metadata": {
            "tags": []
          },
          "execution_count": 30
        }
      ]
    },
    {
      "cell_type": "markdown",
      "metadata": {
        "id": "3O1diZowvIeT"
      },
      "source": [
        "A prediction is an array of 10 numbers, which represents the model's confidence that the image corresponds to each of the 10 different labels/articles of clothing. Check which label has the highest confidence value."
      ]
    },
    {
      "cell_type": "code",
      "metadata": {
        "id": "wfGmmS5YvGB0",
        "outputId": "39bff007-810f-46a2-8407-126d1690dafa",
        "colab": {
          "base_uri": "https://localhost:8080/",
          "height": 34
        }
      },
      "source": [
        "np.argmax(predictions[0])"
      ],
      "execution_count": 31,
      "outputs": [
        {
          "output_type": "execute_result",
          "data": {
            "text/plain": [
              "9"
            ]
          },
          "metadata": {
            "tags": []
          },
          "execution_count": 31
        }
      ]
    },
    {
      "cell_type": "markdown",
      "metadata": {
        "id": "yV1ks2XJvZ3D"
      },
      "source": [
        "Check if it's accurate:"
      ]
    },
    {
      "cell_type": "code",
      "metadata": {
        "id": "NU9hCo7XvYRm",
        "outputId": "4d91c67a-f3d7-4252-89a1-5a64254baa88",
        "colab": {
          "base_uri": "https://localhost:8080/",
          "height": 34
        }
      },
      "source": [
        "test_labels[0]"
      ],
      "execution_count": 32,
      "outputs": [
        {
          "output_type": "execute_result",
          "data": {
            "text/plain": [
              "9"
            ]
          },
          "metadata": {
            "tags": []
          },
          "execution_count": 32
        }
      ]
    },
    {
      "cell_type": "markdown",
      "metadata": {
        "id": "Ny5ZDYg9v5cQ"
      },
      "source": [
        "Graph this to look at full set of 10 class predictions."
      ]
    },
    {
      "cell_type": "code",
      "metadata": {
        "id": "rhb9uCe7vciU"
      },
      "source": [
        "def plot_image(i, predictions_array, true_label, img):\n",
        "  true_label, img = true_label[i], img[i]\n",
        "  plt.grid(False)\n",
        "  plt.xticks([])\n",
        "  plt.yticks([])\n",
        "\n",
        "  plt.imshow(img, cmap=plt.cm.binary)\n",
        "\n",
        "  predicted_label = np.argmax(predictions_array)\n",
        "  if predicted_label == true_label:\n",
        "    color = 'blue'\n",
        "  else:\n",
        "    color = 'red'\n",
        "\n",
        "  plt.xlabel(\"{} {:2.0f}% ({})\".format(class_names[predicted_label],\n",
        "                                100*np.max(predictions_array),\n",
        "                                class_names[true_label]),\n",
        "                                color=color)\n",
        "\n",
        "def plot_value_array(i, predictions_array, true_label):\n",
        "  true_label = true_label[i]\n",
        "  plt.grid(False)\n",
        "  plt.xticks(range(10))\n",
        "  plt.yticks([])\n",
        "  thisplot = plt.bar(range(10), predictions_array, color=\"#777777\")\n",
        "  plt.ylim([0, 1])\n",
        "  predicted_label = np.argmax(predictions_array)\n",
        "\n",
        "  thisplot[predicted_label].set_color('red')\n",
        "  thisplot[true_label].set_color('blue')"
      ],
      "execution_count": 33,
      "outputs": []
    },
    {
      "cell_type": "markdown",
      "metadata": {
        "id": "4J_H9AUswBzB"
      },
      "source": [
        "With the model we trained, use it to make predictions about some images. Correct predictions are blue, incorrect, red. The numbers gives the percentage for the predicted label."
      ]
    },
    {
      "cell_type": "code",
      "metadata": {
        "id": "McfXDENqv-_L",
        "outputId": "9ddcc601-5147-4b20-b3d5-92286b33a471",
        "colab": {
          "base_uri": "https://localhost:8080/",
          "height": 211
        }
      },
      "source": [
        "i = 0\n",
        "plt.figure(figsize=(6,3))\n",
        "plt.subplot(1,2,1)\n",
        "plot_image(i, predictions[i], test_labels, test_images)\n",
        "plt.subplot(1,2,2)\n",
        "plot_value_array(i, predictions[i],  test_labels)\n",
        "plt.show()"
      ],
      "execution_count": 34,
      "outputs": [
        {
          "output_type": "display_data",
          "data": {
            "image/png": "[encoded data removed]",
            "text/plain": [
              "<Figure size 432x216 with 2 Axes>"
            ]
          },
          "metadata": {
            "tags": [],
            "needs_background": "light"
          }
        }
      ]
    },
    {
      "cell_type": "code",
      "metadata": {
        "id": "8CNFwThzwNLH",
        "outputId": "14c61329-b578-4f5f-dec7-e3cca3a5a773",
        "colab": {
          "base_uri": "https://localhost:8080/",
          "height": 211
        }
      },
      "source": [
        "i = 12\n",
        "plt.figure(figsize=(6,3))\n",
        "plt.subplot(1,2,1)\n",
        "plot_image(i, predictions[i], test_labels, test_images)\n",
        "plt.subplot(1,2,2)\n",
        "plot_value_array(i, predictions[i],  test_labels)\n",
        "plt.show()"
      ],
      "execution_count": 35,
      "outputs": [
        {
          "output_type": "display_data",
          "data": {
            "image/png": "[encoded data removed]",
            "text/plain": [
              "<Figure size 432x216 with 2 Axes>"
            ]
          },
          "metadata": {
            "tags": [],
            "needs_background": "light"
          }
        }
      ]
    },
    {
      "cell_type": "code",
      "metadata": {
        "id": "5t-EPOaswQGL",
        "outputId": "30734292-b2fa-453e-82e9-fd941532a1d3",
        "colab": {
          "base_uri": "https://localhost:8080/",
          "height": 716
        }
      },
      "source": [
        "num_rows = 5\n",
        "num_cols = 3\n",
        "num_images = num_rows*num_cols\n",
        "plt.figure(figsize=(2*2*num_cols, 2*num_rows))\n",
        "for i in range(num_images):\n",
        "  plt.subplot(num_rows, 2*num_cols, 2*i+1)\n",
        "  plot_image(i, predictions[i], test_labels, test_images)\n",
        "  plt.subplot(num_rows, 2*num_cols, 2*i+2)\n",
        "  plot_value_array(i, predictions[i], test_labels)\n",
        "plt.tight_layout()\n",
        "plt.show()"
      ],
      "execution_count": 36,
      "outputs": [
        {
          "output_type": "display_data",
          "data": {
            "image/png": "[encoded data removed]",
            "text/plain": [
              "<Figure size 864x720 with 30 Axes>"
            ]
          },
          "metadata": {
            "tags": [],
            "needs_background": "light"
          }
        }
      ]
    },
    {
      "cell_type": "markdown",
      "metadata": {
        "id": "4N_TidItwaMS"
      },
      "source": [
        "# Use trained model\n",
        "Now use the trained model to make a prediction about a single image"
      ]
    },
    {
      "cell_type": "code",
      "metadata": {
        "id": "g1CLadegwU3H",
        "outputId": "ad74fc4b-5da6-48c5-b21c-0d0c4c04bf54",
        "colab": {
          "base_uri": "https://localhost:8080/",
          "height": 34
        }
      },
      "source": [
        "img = test_images[1]\n",
        "print(img.shape)"
      ],
      "execution_count": 37,
      "outputs": [
        {
          "output_type": "stream",
          "text": [
            "(28, 28)\n"
          ],
          "name": "stdout"
        }
      ]
    },
    {
      "cell_type": "markdown",
      "metadata": {
        "id": "rOPEI4z5wlEn"
      },
      "source": [
        "tf.keras models are optimized to make predictions on a batch or collection of examples at once. Even though we're using a single image, we need to add it to a list"
      ]
    },
    {
      "cell_type": "code",
      "metadata": {
        "id": "W55hEldxwkAc",
        "outputId": "b7656f78-d078-4b9d-85b7-b4e8263c96b4",
        "colab": {
          "base_uri": "https://localhost:8080/",
          "height": 34
        }
      },
      "source": [
        "img = (np.expand_dims(img,0))\n",
        "print(img.shape)"
      ],
      "execution_count": 38,
      "outputs": [
        {
          "output_type": "stream",
          "text": [
            "(1, 28, 28)\n"
          ],
          "name": "stdout"
        }
      ]
    },
    {
      "cell_type": "code",
      "metadata": {
        "id": "h86qoWEOwyN-",
        "outputId": "7fb0a711-0749-402f-d44e-b4a4808b7d18",
        "colab": {
          "base_uri": "https://localhost:8080/",
          "height": 51
        }
      },
      "source": [
        "predictions_single = probability_model.predict(img)\n",
        "print(predictions_single)"
      ],
      "execution_count": 39,
      "outputs": [
        {
          "output_type": "stream",
          "text": [
            "[[2.3081219e-04 1.4487679e-07 9.6095800e-01 1.2050709e-06 9.2000598e-03\n",
            "  5.5929860e-14 2.9587924e-02 2.7249568e-25 2.1854306e-05 3.1327220e-18]]\n"
          ],
          "name": "stdout"
        }
      ]
    },
    {
      "cell_type": "code",
      "metadata": {
        "id": "jp0GKSm2w36l",
        "outputId": "aea3de6e-c55c-4774-f27f-5d61a4790c81",
        "colab": {
          "base_uri": "https://localhost:8080/",
          "height": 300
        }
      },
      "source": [
        "plot_value_array(1, predictions_single[0], test_labels)\n",
        "_ = plt.xticks(range(10), class_names, rotation=45)"
      ],
      "execution_count": 42,
      "outputs": [
        {
          "output_type": "display_data",
          "data": {
            "image/png": "[encoded data removed]",
            "text/plain": [
              "<Figure size 432x288 with 1 Axes>"
            ]
          },
          "metadata": {
            "tags": [],
            "needs_background": "light"
          }
        }
      ]
    },
    {
      "cell_type": "code",
      "metadata": {
        "id": "dsyxZpKOxEq_"
      },
      "source": [
        ""
      ],
      "execution_count": null,
      "outputs": []
    }
  ]
}